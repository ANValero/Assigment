{
  "metadata": {
    "kernelspec": {
      "name": "python",
      "display_name": "Python (Pyodide)",
      "language": "python"
    },
    "language_info": {
      "name": ""
    },
    "colab": {
      "provenance": []
    }
  },
  "nbformat_minor": 0,
  "nbformat": 4,
  "cells": [
    {
      "cell_type": "markdown",
      "source": [
        "# Data Science Tools and Ecosystem"
      ],
      "metadata": {
        "id": "b6M6bAyqh8c-"
      }
    },
    {
      "cell_type": "markdown",
      "source": [
        "In this notebook, Data Science Tools and Ecosystem are summarized."
      ],
      "metadata": {
        "id": "mjRvzqhth8c_"
      }
    },
    {
      "cell_type": "markdown",
      "source": [
        "**Objectives:**\n",
        "- List popular languages for Data Science.\n",
        "- List some libraries used by Data Scientists.\n",
        "- Show a few examples of evaluating arithmetic expressions in Python."
      ],
      "metadata": {
        "id": "AyWfvw9bh8c_"
      }
    },
    {
      "cell_type": "markdown",
      "source": [
        "Some of the popular languages that Data Scientists use are:\n",
        "1. Phyton\n",
        "2. R\n",
        "3. SQL"
      ],
      "metadata": {
        "id": "fNTvj7-dh8dA"
      }
    },
    {
      "cell_type": "markdown",
      "source": [
        "Some of the commonly used libraries used by Data Scientists include:\n",
        "1. Pandas\n",
        "2. NumPy\n",
        "3. Matplotlib"
      ],
      "metadata": {
        "id": "UcM3UGQbh8dA"
      }
    },
    {
      "cell_type": "markdown",
      "source": [
        "Data Science Tools|\n",
        "-----|\n",
        "Phyton|\n",
        "GitHub|\n",
        "Apache Spark|"
      ],
      "metadata": {
        "id": "sgQ6bsqwh8dA"
      }
    },
    {
      "cell_type": "markdown",
      "source": [
        "### Below are a few examples of evaluating arithmetic expressions in Python"
      ],
      "metadata": {
        "id": "XxWKOGlbh8dA"
      }
    },
    {
      "cell_type": "code",
      "source": [
        "#This a simple arithmetic expression to mutiply then add integers\n",
        "(3*4)+5"
      ],
      "metadata": {
        "trusted": true,
        "id": "wkZZ1Cf0h8dA",
        "outputId": "f6c3cdf2-931a-49b7-ad76-93da6edeb4ac",
        "colab": {
          "base_uri": "https://localhost:8080/"
        }
      },
      "outputs": [
        {
          "output_type": "execute_result",
          "data": {
            "text/plain": [
              "17"
            ]
          },
          "metadata": {},
          "execution_count": 1
        }
      ],
      "execution_count": 1
    },
    {
      "cell_type": "code",
      "source": [
        "#This will convert 200 minutes to hours by diving by 60\n",
        "200/60"
      ],
      "metadata": {
        "trusted": true,
        "id": "XJCiX3UJh8dB",
        "outputId": "7cc2cf10-a69e-42ef-c66f-5df862b873f0",
        "colab": {
          "base_uri": "https://localhost:8080/"
        }
      },
      "outputs": [
        {
          "output_type": "execute_result",
          "data": {
            "text/plain": [
              "3.3333333333333335"
            ]
          },
          "metadata": {},
          "execution_count": 2
        }
      ],
      "execution_count": 2
    },
    {
      "cell_type": "markdown",
      "source": [
        "## Author\n",
        "Angie Natalia Valero Paez"
      ],
      "metadata": {
        "id": "Z0giUZ3Yh8dB"
      }
    },
    {
      "cell_type": "code",
      "source": [],
      "metadata": {
        "trusted": true,
        "id": "e4O39kXXh8dB"
      },
      "outputs": [],
      "execution_count": null
    }
  ]
}